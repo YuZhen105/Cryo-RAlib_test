{
 "cells": [
  {
   "cell_type": "code",
   "execution_count": 7,
   "metadata": {},
   "outputs": [],
   "source": [
    "import os\n",
    "import global_def\n",
    "from global_def import *\n",
    "from optparse import OptionParser\n",
    "import sys\n",
    "import sparx as spx\n",
    "\n",
    "###############################################################\n",
    "########################################################### GPU\n",
    "\n",
    "import math\n",
    "import numpy as np\n",
    "import ctypes\n",
    "from EMAN2 import EMNumPy\n",
    "from sp_utilities      import   model_circle, combine_params2, inverse_transform2, drop_image, get_image, get_im\n",
    "from sp_utilities      import   reduce_EMData_to_root, bcast_EMData_to_all, bcast_number_to_all\n",
    "from sp_utilities      import   send_attr_dict\n",
    "from sp_utilities        import   center_2D\n",
    "from sp_statistics     import   fsc_mask\n",
    "from sp_alignment      import   Numrinit, ringwe, search_range\n",
    "from sp_fundamentals   import   rot_shift2D, fshift\n",
    "from sp_utilities      import   get_params2D, set_params2D\n",
    "from random         import   seed, randint\n",
    "from sp_morphology     import   ctf_2\n",
    "from sp_filter         import   filt_btwl, filt_params\n",
    "from numpy          import   reshape, shape\n",
    "from sp_utilities      import   print_msg, print_begin_msg, print_end_msg\n",
    "import os\n",
    "import alignment\n",
    "import fundamentals\n",
    "import sys\n",
    "import mpi\n",
    "import time\n",
    "import utilities as util\n",
    "from sp_applications   import MPI_start_end\n",
    "from mpi       import mpi_comm_size, mpi_comm_rank, MPI_COMM_WORLD\n",
    "from mpi       import mpi_reduce, mpi_bcast, mpi_barrier, mpi_recv, mpi_send\n",
    "from mpi       import MPI_SUM, MPI_FLOAT, MPI_INT"
   ]
  },
  {
   "cell_type": "code",
   "execution_count": 10,
   "metadata": {},
   "outputs": [],
   "source": [
    "refim= 'rib_ref.hdf'\n",
    "stack = 'rib_images.hdf'\n",
    "\n",
    "nima = EMUtil.get_image_count(stack)"
   ]
  },
  {
   "cell_type": "code",
   "execution_count": 12,
   "metadata": {},
   "outputs": [],
   "source": [
    "ima = EMData()\n",
    "ima.read_image(stack,0)"
   ]
  },
  {
   "cell_type": "code",
   "execution_count": 13,
   "metadata": {},
   "outputs": [],
   "source": [
    "refi = []\n",
    "numref = EMUtil.get_image_count(refim)\n",
    "ima.to_zero()\n",
    "for j in range(numref):\n",
    "    #  even, odd, number of even, number of images.  After frc, totav\n",
    "    refi.append([get_im(refim,j), ima.copy(), 0])\n",
    "#  for each node read its share of data\n",
    "data = EMData.read_images(stack, list(range(0,15)))"
   ]
  },
  {
   "cell_type": "code",
   "execution_count": 15,
   "metadata": {},
   "outputs": [
    {
     "data": {
      "text/plain": [
       "[<libpyEMData2.EMData at 0x7fc9d74a47d0>,\n",
       " <libpyEMData2.EMData at 0x7fc9d74a4758>,\n",
       " <libpyEMData2.EMData at 0x7fc9d74a4848>,\n",
       " <libpyEMData2.EMData at 0x7fc9d74a48c0>,\n",
       " <libpyEMData2.EMData at 0x7fc9d74a4938>,\n",
       " <libpyEMData2.EMData at 0x7fc9d74a49b0>,\n",
       " <libpyEMData2.EMData at 0x7fc9d74a4a28>,\n",
       " <libpyEMData2.EMData at 0x7fc9d74a4aa0>,\n",
       " <libpyEMData2.EMData at 0x7fc9d74a4b18>,\n",
       " <libpyEMData2.EMData at 0x7fc9d74a4b90>,\n",
       " <libpyEMData2.EMData at 0x7fc9d74a4c08>,\n",
       " <libpyEMData2.EMData at 0x7fc9d74a4c80>,\n",
       " <libpyEMData2.EMData at 0x7fc9d74a4cf8>,\n",
       " <libpyEMData2.EMData at 0x7fc9d74a4d70>,\n",
       " <libpyEMData2.EMData at 0x7fc9d74a4de8>]"
      ]
     },
     "execution_count": 15,
     "metadata": {},
     "output_type": "execute_result"
    }
   ],
   "source": [
    "data"
   ]
  },
  {
   "cell_type": "code",
   "execution_count": 17,
   "metadata": {},
   "outputs": [
    {
     "data": {
      "text/plain": [
       "[<libpyEMData2.EMData at 0x7fc9d74b4208>,\n",
       " <libpyEMData2.EMData at 0x7fc9d74b4260>,\n",
       " <libpyEMData2.EMData at 0x7fc9d74b42b8>]"
      ]
     },
     "execution_count": 17,
     "metadata": {},
     "output_type": "execute_result"
    }
   ],
   "source": [
    "[tmp[0] for tmp in refi]"
   ]
  },
  {
   "cell_type": "code",
   "execution_count": 18,
   "metadata": {},
   "outputs": [
    {
     "data": {
      "text/plain": [
       "array([[4.067258 , 4.073924 , 4.080078 , ..., 4.042424 , 4.001871 ,\n",
       "        4.012332 ],\n",
       "       [4.1187153, 4.1492662, 4.153582 , ..., 4.048723 , 4.073757 ,\n",
       "        4.103967 ],\n",
       "       [4.0541115, 4.064709 , 4.0847363, ..., 4.0762715, 4.0866385,\n",
       "        4.037177 ],\n",
       "       ...,\n",
       "       [4.0600905, 4.09644  , 4.0586557, ..., 4.087281 , 4.0657287,\n",
       "        4.017079 ],\n",
       "       [4.0755715, 4.0893893, 4.0798345, ..., 4.038304 , 4.0035715,\n",
       "        3.9537454],\n",
       "       [4.0709496, 4.057938 , 4.038547 , ..., 4.016837 , 4.054863 ,\n",
       "        4.0525765]], dtype=float32)"
      ]
     },
     "execution_count": 18,
     "metadata": {},
     "output_type": "execute_result"
    }
   ],
   "source": [
    "EMNumPy.em2numpy(data[0])"
   ]
  },
  {
   "cell_type": "code",
   "execution_count": null,
   "metadata": {},
   "outputs": [],
   "source": []
  }
 ],
 "metadata": {
  "kernelspec": {
   "display_name": "Python 2",
   "language": "python",
   "name": "python2"
  },
  "language_info": {
   "codemirror_mode": {
    "name": "ipython",
    "version": 2
   },
   "file_extension": ".py",
   "mimetype": "text/x-python",
   "name": "python",
   "nbconvert_exporter": "python",
   "pygments_lexer": "ipython2",
   "version": "2.7.14"
  }
 },
 "nbformat": 4,
 "nbformat_minor": 2
}
